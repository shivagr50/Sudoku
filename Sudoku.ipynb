{
 "cells": [
  {
   "cell_type": "code",
   "execution_count": 1,
   "metadata": {},
   "outputs": [],
   "source": [
    "import numpy as np\n",
    "import pandas as pd\n",
    "import os\n",
    "import sys"
   ]
  },
  {
   "cell_type": "code",
   "execution_count": 2,
   "metadata": {},
   "outputs": [],
   "source": [
    "filename=r\"C:\\..\\puzzle.xlsx\"\n",
    "grid = pd.read_excel(filename,header=None,index_col=False)\n",
    "grid.fillna(0,inplace=True)\n",
    "grid=np.matrix(grid.to_numpy(dtype='int'))"
   ]
  },
  {
   "cell_type": "code",
   "execution_count": 4,
   "metadata": {},
   "outputs": [],
   "source": [
    "#function to check possiblity of inserstion based on rules of the game. Checks only one digit n at (x,y)\n",
    "def possible(y,x,n):\n",
    "    global grid\n",
    "    if (grid[y:y+1,:]==n).any():\n",
    "        return False\n",
    "    if (grid[:,x:x+1]==n).any():\n",
    "        return False\n",
    "    x0 = (x//3)*3\n",
    "    y0 = (y//3)*3\n",
    "    if (grid[y0:y0+3,x0:x0+3]==n).any():\n",
    "        return False\n",
    "    return True"
   ]
  },
  {
   "cell_type": "code",
   "execution_count": 8,
   "metadata": {},
   "outputs": [],
   "source": [
    "def solve():\n",
    "    global grid\n",
    "    for y in range(9):\n",
    "        for x in range(9):\n",
    "            if grid[y,x]==0:\n",
    "                for n in range(10):\n",
    "                    if possible(y,x,n):\n",
    "                        grid[y,x]=n\n",
    "                        solve()\n",
    "                        grid[y,x]=0\n",
    "                return\n",
    "    print(grid)\n",
    "    sys.exit"
   ]
  },
  {
   "cell_type": "code",
   "execution_count": 9,
   "metadata": {},
   "outputs": [
    {
     "name": "stdout",
     "output_type": "stream",
     "text": [
      "[[1 8 4 3 9 6 7 2 5]\n",
      " [9 3 5 2 4 7 1 6 8]\n",
      " [6 7 2 1 5 8 3 4 9]\n",
      " [5 6 9 7 1 2 4 8 3]\n",
      " [7 4 3 6 8 9 5 1 2]\n",
      " [2 1 8 5 3 4 9 7 6]\n",
      " [8 9 1 4 2 5 6 3 7]\n",
      " [4 5 6 8 7 3 2 9 1]\n",
      " [3 2 7 9 6 1 8 5 4]]\n"
     ]
    }
   ],
   "source": [
    "solve()"
   ]
  }
 ],
 "metadata": {
  "kernelspec": {
   "display_name": "Python 3",
   "language": "python",
   "name": "python3"
  },
  "language_info": {
   "codemirror_mode": {
    "name": "ipython",
    "version": 3
   },
   "file_extension": ".py",
   "mimetype": "text/x-python",
   "name": "python",
   "nbconvert_exporter": "python",
   "pygments_lexer": "ipython3",
   "version": "3.7.6"
  }
 },
 "nbformat": 4,
 "nbformat_minor": 4
}
